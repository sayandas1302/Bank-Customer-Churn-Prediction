{
 "cells": [
  {
   "attachments": {},
   "cell_type": "markdown",
   "metadata": {},
   "source": [
    "### Required Libraries"
   ]
  },
  {
   "cell_type": "code",
   "execution_count": 33,
   "metadata": {},
   "outputs": [],
   "source": [
    "import pandas as pd\n",
    "import numpy as np \n",
    "import matplotlib.pyplot as plt\n",
    "import random\n",
    "import math\n",
    "import pickle\n",
    "import seaborn as sns\n",
    "from imblearn.over_sampling import SMOTE\n",
    "import statsmodels.api as sm\n",
    "from statsmodels.api import Logit\n",
    "from sklearn.model_selection import train_test_split\n",
    "from sklearn.metrics import roc_curve, roc_auc_score, classification_report, confusion_matrix, accuracy_score"
   ]
  },
  {
   "attachments": {},
   "cell_type": "markdown",
   "metadata": {},
   "source": [
    "### Preprocessed Dataset"
   ]
  },
  {
   "cell_type": "code",
   "execution_count": 34,
   "metadata": {},
   "outputs": [
    {
     "data": {
      "text/html": [
       "<div>\n",
       "<style scoped>\n",
       "    .dataframe tbody tr th:only-of-type {\n",
       "        vertical-align: middle;\n",
       "    }\n",
       "\n",
       "    .dataframe tbody tr th {\n",
       "        vertical-align: top;\n",
       "    }\n",
       "\n",
       "    .dataframe thead th {\n",
       "        text-align: right;\n",
       "    }\n",
       "</style>\n",
       "<table border=\"1\" class=\"dataframe\">\n",
       "  <thead>\n",
       "    <tr style=\"text-align: right;\">\n",
       "      <th></th>\n",
       "      <th>CreditScore</th>\n",
       "      <th>Age</th>\n",
       "      <th>Tenure</th>\n",
       "      <th>Balance</th>\n",
       "      <th>NumOfProducts</th>\n",
       "      <th>EstimatedSalary</th>\n",
       "      <th>Satisfaction Score</th>\n",
       "      <th>Point Earned</th>\n",
       "      <th>Geography_Germany</th>\n",
       "      <th>Geography_Spain</th>\n",
       "      <th>Gender_Male</th>\n",
       "      <th>HasCrCard_1</th>\n",
       "      <th>IsActiveMember_1</th>\n",
       "      <th>Complain_1</th>\n",
       "      <th>Card Type_GOLD</th>\n",
       "      <th>Card Type_PLATINUM</th>\n",
       "      <th>Card Type_SILVER</th>\n",
       "      <th>Exited</th>\n",
       "    </tr>\n",
       "  </thead>\n",
       "  <tbody>\n",
       "    <tr>\n",
       "      <th>0</th>\n",
       "      <td>-0.326221</td>\n",
       "      <td>0.293517</td>\n",
       "      <td>-1.041760</td>\n",
       "      <td>-1.225848</td>\n",
       "      <td>-0.911583</td>\n",
       "      <td>0.021886</td>\n",
       "      <td>-0.721130</td>\n",
       "      <td>-0.630839</td>\n",
       "      <td>0.0</td>\n",
       "      <td>0.0</td>\n",
       "      <td>0.0</td>\n",
       "      <td>1.0</td>\n",
       "      <td>1.0</td>\n",
       "      <td>1.0</td>\n",
       "      <td>0.0</td>\n",
       "      <td>0.0</td>\n",
       "      <td>0.0</td>\n",
       "      <td>1</td>\n",
       "    </tr>\n",
       "    <tr>\n",
       "      <th>1</th>\n",
       "      <td>-0.440036</td>\n",
       "      <td>0.198164</td>\n",
       "      <td>-1.387538</td>\n",
       "      <td>0.117350</td>\n",
       "      <td>-0.911583</td>\n",
       "      <td>0.216534</td>\n",
       "      <td>-0.009816</td>\n",
       "      <td>-0.666251</td>\n",
       "      <td>0.0</td>\n",
       "      <td>1.0</td>\n",
       "      <td>0.0</td>\n",
       "      <td>0.0</td>\n",
       "      <td>1.0</td>\n",
       "      <td>1.0</td>\n",
       "      <td>0.0</td>\n",
       "      <td>0.0</td>\n",
       "      <td>0.0</td>\n",
       "      <td>0</td>\n",
       "    </tr>\n",
       "    <tr>\n",
       "      <th>2</th>\n",
       "      <td>-1.536794</td>\n",
       "      <td>0.293517</td>\n",
       "      <td>1.032908</td>\n",
       "      <td>1.333053</td>\n",
       "      <td>2.527057</td>\n",
       "      <td>0.240687</td>\n",
       "      <td>-0.009816</td>\n",
       "      <td>-1.015942</td>\n",
       "      <td>0.0</td>\n",
       "      <td>0.0</td>\n",
       "      <td>0.0</td>\n",
       "      <td>1.0</td>\n",
       "      <td>0.0</td>\n",
       "      <td>1.0</td>\n",
       "      <td>0.0</td>\n",
       "      <td>0.0</td>\n",
       "      <td>0.0</td>\n",
       "      <td>1</td>\n",
       "    </tr>\n",
       "    <tr>\n",
       "      <th>3</th>\n",
       "      <td>0.501521</td>\n",
       "      <td>0.007457</td>\n",
       "      <td>-1.387538</td>\n",
       "      <td>-1.225848</td>\n",
       "      <td>0.807737</td>\n",
       "      <td>-0.108918</td>\n",
       "      <td>1.412812</td>\n",
       "      <td>-1.135457</td>\n",
       "      <td>0.0</td>\n",
       "      <td>0.0</td>\n",
       "      <td>0.0</td>\n",
       "      <td>0.0</td>\n",
       "      <td>0.0</td>\n",
       "      <td>0.0</td>\n",
       "      <td>1.0</td>\n",
       "      <td>0.0</td>\n",
       "      <td>0.0</td>\n",
       "      <td>0</td>\n",
       "    </tr>\n",
       "    <tr>\n",
       "      <th>4</th>\n",
       "      <td>2.063884</td>\n",
       "      <td>0.388871</td>\n",
       "      <td>-1.041760</td>\n",
       "      <td>0.785728</td>\n",
       "      <td>-0.911583</td>\n",
       "      <td>-0.365276</td>\n",
       "      <td>1.412812</td>\n",
       "      <td>-0.803472</td>\n",
       "      <td>0.0</td>\n",
       "      <td>1.0</td>\n",
       "      <td>0.0</td>\n",
       "      <td>1.0</td>\n",
       "      <td>1.0</td>\n",
       "      <td>0.0</td>\n",
       "      <td>1.0</td>\n",
       "      <td>0.0</td>\n",
       "      <td>0.0</td>\n",
       "      <td>0</td>\n",
       "    </tr>\n",
       "  </tbody>\n",
       "</table>\n",
       "</div>"
      ],
      "text/plain": [
       "   CreditScore       Age    Tenure   Balance  NumOfProducts  EstimatedSalary   \n",
       "0    -0.326221  0.293517 -1.041760 -1.225848      -0.911583         0.021886  \\\n",
       "1    -0.440036  0.198164 -1.387538  0.117350      -0.911583         0.216534   \n",
       "2    -1.536794  0.293517  1.032908  1.333053       2.527057         0.240687   \n",
       "3     0.501521  0.007457 -1.387538 -1.225848       0.807737        -0.108918   \n",
       "4     2.063884  0.388871 -1.041760  0.785728      -0.911583        -0.365276   \n",
       "\n",
       "   Satisfaction Score  Point Earned  Geography_Germany  Geography_Spain   \n",
       "0           -0.721130     -0.630839                0.0              0.0  \\\n",
       "1           -0.009816     -0.666251                0.0              1.0   \n",
       "2           -0.009816     -1.015942                0.0              0.0   \n",
       "3            1.412812     -1.135457                0.0              0.0   \n",
       "4            1.412812     -0.803472                0.0              1.0   \n",
       "\n",
       "   Gender_Male  HasCrCard_1  IsActiveMember_1  Complain_1  Card Type_GOLD   \n",
       "0          0.0          1.0               1.0         1.0             0.0  \\\n",
       "1          0.0          0.0               1.0         1.0             0.0   \n",
       "2          0.0          1.0               0.0         1.0             0.0   \n",
       "3          0.0          0.0               0.0         0.0             1.0   \n",
       "4          0.0          1.0               1.0         0.0             1.0   \n",
       "\n",
       "   Card Type_PLATINUM  Card Type_SILVER  Exited  \n",
       "0                 0.0               0.0       1  \n",
       "1                 0.0               0.0       0  \n",
       "2                 0.0               0.0       1  \n",
       "3                 0.0               0.0       0  \n",
       "4                 0.0               0.0       0  "
      ]
     },
     "execution_count": 34,
     "metadata": {},
     "output_type": "execute_result"
    }
   ],
   "source": [
    "# dataset path\n",
    "datasetPath = './DataSets/preprocessedData.csv'\n",
    "\n",
    "# calling the dataset\n",
    "df = pd.read_csv(datasetPath)\n",
    "df.head()"
   ]
  },
  {
   "cell_type": "code",
   "execution_count": 35,
   "metadata": {},
   "outputs": [],
   "source": [
    "num_col = list(df.columns[:8])"
   ]
  },
  {
   "attachments": {},
   "cell_type": "markdown",
   "metadata": {},
   "source": [
    "### Building X and y"
   ]
  },
  {
   "cell_type": "code",
   "execution_count": 36,
   "metadata": {},
   "outputs": [],
   "source": [
    "# seperating X and y\n",
    "y = df[['Exited']]\n",
    "X = df.drop(['Exited'], axis=1)"
   ]
  },
  {
   "attachments": {},
   "cell_type": "markdown",
   "metadata": {},
   "source": [
    " ### Ensuring Balance"
   ]
  },
  {
   "cell_type": "code",
   "execution_count": 37,
   "metadata": {},
   "outputs": [],
   "source": [
    "# resampling to ensure balance\n",
    "resampler = SMOTE(random_state=26)\n",
    "\n",
    "X_bal, y_bal = resampler.fit_resample(X, y)\n",
    "X_bal = sm.add_constant(X_bal)"
   ]
  },
  {
   "cell_type": "code",
   "execution_count": 38,
   "metadata": {},
   "outputs": [
    {
     "data": {
      "text/plain": [
       "Exited\n",
       "0         7645\n",
       "1         7645\n",
       "Name: count, dtype: int64"
      ]
     },
     "execution_count": 38,
     "metadata": {},
     "output_type": "execute_result"
    }
   ],
   "source": [
    "y_bal.value_counts()"
   ]
  },
  {
   "attachments": {},
   "cell_type": "markdown",
   "metadata": {},
   "source": [
    "### Logistic Regression"
   ]
  },
  {
   "cell_type": "code",
   "execution_count": 39,
   "metadata": {},
   "outputs": [],
   "source": [
    "# train-test split (80-20)\n",
    "X_train, X_test, y_train, y_test = train_test_split(X_bal, y_bal, test_size=0.2, random_state=103)"
   ]
  },
  {
   "cell_type": "code",
   "execution_count": 40,
   "metadata": {},
   "outputs": [
    {
     "name": "stdout",
     "output_type": "stream",
     "text": [
      "Optimization terminated successfully.\n",
      "         Current function value: 0.007137\n",
      "         Iterations 13\n"
     ]
    }
   ],
   "source": [
    "# Logistic model building\n",
    "model = sm.Logit(y_train, X_train)\n",
    "result = model.fit()"
   ]
  },
  {
   "cell_type": "code",
   "execution_count": 41,
   "metadata": {},
   "outputs": [
    {
     "data": {
      "text/html": [
       "<div>\n",
       "<style scoped>\n",
       "    .dataframe tbody tr th:only-of-type {\n",
       "        vertical-align: middle;\n",
       "    }\n",
       "\n",
       "    .dataframe tbody tr th {\n",
       "        vertical-align: top;\n",
       "    }\n",
       "\n",
       "    .dataframe thead th {\n",
       "        text-align: right;\n",
       "    }\n",
       "</style>\n",
       "<table border=\"1\" class=\"dataframe\">\n",
       "  <thead>\n",
       "    <tr style=\"text-align: right;\">\n",
       "      <th></th>\n",
       "      <th></th>\n",
       "      <th>coef</th>\n",
       "      <th>std err</th>\n",
       "      <th>z</th>\n",
       "      <th>P&gt;|z|</th>\n",
       "      <th>[0.025</th>\n",
       "      <th>0.975]</th>\n",
       "    </tr>\n",
       "  </thead>\n",
       "  <tbody>\n",
       "    <tr>\n",
       "      <th>0</th>\n",
       "      <td>const</td>\n",
       "      <td>-6.4636</td>\n",
       "      <td>0.947</td>\n",
       "      <td>-6.826</td>\n",
       "      <td>0.000</td>\n",
       "      <td>-8.319</td>\n",
       "      <td>-4.608</td>\n",
       "    </tr>\n",
       "    <tr>\n",
       "      <th>1</th>\n",
       "      <td>CreditScore</td>\n",
       "      <td>0.1188</td>\n",
       "      <td>0.290</td>\n",
       "      <td>0.409</td>\n",
       "      <td>0.682</td>\n",
       "      <td>-0.450</td>\n",
       "      <td>0.688</td>\n",
       "    </tr>\n",
       "    <tr>\n",
       "      <th>2</th>\n",
       "      <td>Age</td>\n",
       "      <td>1.5458</td>\n",
       "      <td>0.342</td>\n",
       "      <td>4.524</td>\n",
       "      <td>0.000</td>\n",
       "      <td>0.876</td>\n",
       "      <td>2.216</td>\n",
       "    </tr>\n",
       "    <tr>\n",
       "      <th>3</th>\n",
       "      <td>Tenure</td>\n",
       "      <td>-0.1941</td>\n",
       "      <td>0.278</td>\n",
       "      <td>-0.697</td>\n",
       "      <td>0.486</td>\n",
       "      <td>-0.740</td>\n",
       "      <td>0.352</td>\n",
       "    </tr>\n",
       "    <tr>\n",
       "      <th>4</th>\n",
       "      <td>Balance</td>\n",
       "      <td>0.1918</td>\n",
       "      <td>0.321</td>\n",
       "      <td>0.598</td>\n",
       "      <td>0.550</td>\n",
       "      <td>-0.437</td>\n",
       "      <td>0.820</td>\n",
       "    </tr>\n",
       "    <tr>\n",
       "      <th>5</th>\n",
       "      <td>NumOfProducts</td>\n",
       "      <td>-0.4355</td>\n",
       "      <td>0.223</td>\n",
       "      <td>-1.951</td>\n",
       "      <td>0.051</td>\n",
       "      <td>-0.873</td>\n",
       "      <td>0.002</td>\n",
       "    </tr>\n",
       "    <tr>\n",
       "      <th>6</th>\n",
       "      <td>EstimatedSalary</td>\n",
       "      <td>0.0179</td>\n",
       "      <td>0.271</td>\n",
       "      <td>0.066</td>\n",
       "      <td>0.947</td>\n",
       "      <td>-0.514</td>\n",
       "      <td>0.550</td>\n",
       "    </tr>\n",
       "    <tr>\n",
       "      <th>7</th>\n",
       "      <td>Satisfaction Score</td>\n",
       "      <td>-0.3589</td>\n",
       "      <td>0.277</td>\n",
       "      <td>-1.295</td>\n",
       "      <td>0.195</td>\n",
       "      <td>-0.902</td>\n",
       "      <td>0.184</td>\n",
       "    </tr>\n",
       "    <tr>\n",
       "      <th>8</th>\n",
       "      <td>Point Earned</td>\n",
       "      <td>-0.6975</td>\n",
       "      <td>0.303</td>\n",
       "      <td>-2.301</td>\n",
       "      <td>0.021</td>\n",
       "      <td>-1.292</td>\n",
       "      <td>-0.103</td>\n",
       "    </tr>\n",
       "    <tr>\n",
       "      <th>9</th>\n",
       "      <td>Geography_Germany</td>\n",
       "      <td>-1.1005</td>\n",
       "      <td>0.743</td>\n",
       "      <td>-1.482</td>\n",
       "      <td>0.138</td>\n",
       "      <td>-2.556</td>\n",
       "      <td>0.355</td>\n",
       "    </tr>\n",
       "    <tr>\n",
       "      <th>10</th>\n",
       "      <td>Geography_Spain</td>\n",
       "      <td>0.4207</td>\n",
       "      <td>0.743</td>\n",
       "      <td>0.566</td>\n",
       "      <td>0.571</td>\n",
       "      <td>-1.035</td>\n",
       "      <td>1.877</td>\n",
       "    </tr>\n",
       "    <tr>\n",
       "      <th>11</th>\n",
       "      <td>Gender_Male</td>\n",
       "      <td>-0.4977</td>\n",
       "      <td>0.566</td>\n",
       "      <td>-0.880</td>\n",
       "      <td>0.379</td>\n",
       "      <td>-1.606</td>\n",
       "      <td>0.611</td>\n",
       "    </tr>\n",
       "    <tr>\n",
       "      <th>12</th>\n",
       "      <td>HasCrCard_1</td>\n",
       "      <td>0.2615</td>\n",
       "      <td>0.640</td>\n",
       "      <td>0.409</td>\n",
       "      <td>0.683</td>\n",
       "      <td>-0.993</td>\n",
       "      <td>1.516</td>\n",
       "    </tr>\n",
       "    <tr>\n",
       "      <th>13</th>\n",
       "      <td>IsActiveMember_1</td>\n",
       "      <td>-2.2929</td>\n",
       "      <td>0.681</td>\n",
       "      <td>-3.369</td>\n",
       "      <td>0.001</td>\n",
       "      <td>-3.627</td>\n",
       "      <td>-0.959</td>\n",
       "    </tr>\n",
       "    <tr>\n",
       "      <th>14</th>\n",
       "      <td>Complain_1</td>\n",
       "      <td>15.8196</td>\n",
       "      <td>1.076</td>\n",
       "      <td>14.708</td>\n",
       "      <td>0.000</td>\n",
       "      <td>13.712</td>\n",
       "      <td>17.928</td>\n",
       "    </tr>\n",
       "    <tr>\n",
       "      <th>15</th>\n",
       "      <td>Card Type_GOLD</td>\n",
       "      <td>-1.1229</td>\n",
       "      <td>0.845</td>\n",
       "      <td>-1.329</td>\n",
       "      <td>0.184</td>\n",
       "      <td>-2.779</td>\n",
       "      <td>0.533</td>\n",
       "    </tr>\n",
       "    <tr>\n",
       "      <th>16</th>\n",
       "      <td>Card Type_PLATINUM</td>\n",
       "      <td>-1.3901</td>\n",
       "      <td>0.818</td>\n",
       "      <td>-1.699</td>\n",
       "      <td>0.089</td>\n",
       "      <td>-2.994</td>\n",
       "      <td>0.213</td>\n",
       "    </tr>\n",
       "    <tr>\n",
       "      <th>17</th>\n",
       "      <td>Card Type_SILVER</td>\n",
       "      <td>0.1127</td>\n",
       "      <td>0.792</td>\n",
       "      <td>0.142</td>\n",
       "      <td>0.887</td>\n",
       "      <td>-1.440</td>\n",
       "      <td>1.666</td>\n",
       "    </tr>\n",
       "  </tbody>\n",
       "</table>\n",
       "</div>"
      ],
      "text/plain": [
       "0                             coef    std err          z   P>|z|     [0.025   \n",
       "0                const     -6.4636      0.947     -6.826   0.000     -8.319  \\\n",
       "1          CreditScore      0.1188      0.290      0.409   0.682     -0.450   \n",
       "2                  Age      1.5458      0.342      4.524   0.000      0.876   \n",
       "3               Tenure     -0.1941      0.278     -0.697   0.486     -0.740   \n",
       "4              Balance      0.1918      0.321      0.598   0.550     -0.437   \n",
       "5        NumOfProducts     -0.4355      0.223     -1.951   0.051     -0.873   \n",
       "6      EstimatedSalary      0.0179      0.271      0.066   0.947     -0.514   \n",
       "7   Satisfaction Score     -0.3589      0.277     -1.295   0.195     -0.902   \n",
       "8         Point Earned     -0.6975      0.303     -2.301   0.021     -1.292   \n",
       "9    Geography_Germany     -1.1005      0.743     -1.482   0.138     -2.556   \n",
       "10     Geography_Spain      0.4207      0.743      0.566   0.571     -1.035   \n",
       "11         Gender_Male     -0.4977      0.566     -0.880   0.379     -1.606   \n",
       "12         HasCrCard_1      0.2615      0.640      0.409   0.683     -0.993   \n",
       "13    IsActiveMember_1     -2.2929      0.681     -3.369   0.001     -3.627   \n",
       "14          Complain_1     15.8196      1.076     14.708   0.000     13.712   \n",
       "15      Card Type_GOLD     -1.1229      0.845     -1.329   0.184     -2.779   \n",
       "16  Card Type_PLATINUM     -1.3901      0.818     -1.699   0.089     -2.994   \n",
       "17    Card Type_SILVER      0.1127      0.792      0.142   0.887     -1.440   \n",
       "\n",
       "0      0.975]  \n",
       "0      -4.608  \n",
       "1       0.688  \n",
       "2       2.216  \n",
       "3       0.352  \n",
       "4       0.820  \n",
       "5       0.002  \n",
       "6       0.550  \n",
       "7       0.184  \n",
       "8      -0.103  \n",
       "9       0.355  \n",
       "10      1.877  \n",
       "11      0.611  \n",
       "12      1.516  \n",
       "13     -0.959  \n",
       "14     17.928  \n",
       "15      0.533  \n",
       "16      0.213  \n",
       "17      1.666  "
      ]
     },
     "execution_count": 41,
     "metadata": {},
     "output_type": "execute_result"
    }
   ],
   "source": [
    "# model summary\n",
    "colnames = pd.DataFrame(result.summary().tables[1]).loc[0,]\n",
    "coefDf = pd.DataFrame(result.summary().tables[1], columns=colnames).drop(0, axis=0).reset_index().drop('index', axis=1)\n",
    "coefDf.to_csv('./DataSets/coefDf.csv', index=False)\n",
    "coefDf"
   ]
  },
  {
   "cell_type": "code",
   "execution_count": 42,
   "metadata": {},
   "outputs": [
    {
     "name": "stdout",
     "output_type": "stream",
     "text": [
      "0.8588197363814101\n"
     ]
    }
   ],
   "source": [
    "# prediction probability\n",
    "pred_proba = result.predict(X_test)\n",
    "\n",
    "# best threshold\n",
    "fpr, tpr, threshold = roc_curve(y_test, pred_proba)\n",
    "bestThresh = threshold[np.argmax(tpr*(1-fpr))]\n",
    "print(bestThresh)\n",
    "\n",
    "# predicted outcome\n",
    "y_pred = np.array([1 if x>bestThresh else 0 for x in pred_proba])"
   ]
  },
  {
   "cell_type": "code",
   "execution_count": 52,
   "metadata": {},
   "outputs": [],
   "source": [
    "# saving the threshold\n",
    "with open('./pickleFiles/threshold.pkl', 'wb') as file:\n",
    "    pickle.dump(bestThresh, file)"
   ]
  },
  {
   "cell_type": "code",
   "execution_count": 43,
   "metadata": {},
   "outputs": [],
   "source": [
    "# function for k-fold cross-validation technique\n",
    "def kfoldCV(X, y, k=5):\n",
    "    '''function to cross validate the model to get an idea about the test accuracy'''\n",
    "    # shapes\n",
    "    n = X_bal.shape[0]\n",
    "    id = random.sample(range(n), n)\n",
    "    k1 = math.floor(len(id)/k)\n",
    "\n",
    "    accScore = []\n",
    "    for i in range(k):\n",
    "        # train-test split\n",
    "        testid = id[i*k1:(i+1)*k1]\n",
    "        X_test = X.loc[testid, ]\n",
    "        y_test = y.loc[testid, ]\n",
    "        X_train = X.drop(testid, axis=0)\n",
    "        y_train = y.drop(testid, axis=0)\n",
    "\n",
    "        # model building\n",
    "        model = sm.Logit(y_train, X_train)\n",
    "        result = model.fit(disp=False)\n",
    "        pred_proba = result.predict(X_test)\n",
    "\n",
    "        # choosing the best threshold\n",
    "        fpr, tpr, thresholds = roc_curve(y_test, pred_proba)\n",
    "        best_threshold = thresholds[np.argmax(tpr*(1-fpr))]\n",
    "        y_pred = [1 if x>best_threshold else 0 for x in pred_proba]\n",
    "\n",
    "        # storing the accuracy \n",
    "        accScore.append(accuracy_score(y_test, y_pred))\n",
    "    return accScore"
   ]
  },
  {
   "cell_type": "code",
   "execution_count": 44,
   "metadata": {},
   "outputs": [
    {
     "name": "stdout",
     "output_type": "stream",
     "text": [
      "Test Accuracies: \n",
      "[0.99738, 0.99869, 0.99869, 0.99935, 0.99738, 0.99804, 0.99869, 0.99738, 0.99869, 0.99869]\n",
      "Average Test Accuracy: \n",
      "0.9983\n"
     ]
    }
   ],
   "source": [
    "# test accuracies for a k-fold cross validation\n",
    "cvTestAccValues = kfoldCV(X_bal, y_bal, k=10)\n",
    "averageAcc = np.mean(np.array(cvTestAccValues))\n",
    "print(f'Test Accuracies: \\n{[round(x, 5) for x in cvTestAccValues]}')\n",
    "print(f'Average Test Accuracy: \\n{round(averageAcc, 5)}')"
   ]
  },
  {
   "cell_type": "code",
   "execution_count": 45,
   "metadata": {},
   "outputs": [
    {
     "data": {
      "text/plain": [
       "<matplotlib.legend.Legend at 0x210792ef3d0>"
      ]
     },
     "execution_count": 45,
     "metadata": {},
     "output_type": "execute_result"
    },
    {
     "data": {
      "image/png": "[encoded data removed]",
      "text/plain": [
       "<Figure size 640x480 with 1 Axes>"
      ]
     },
     "metadata": {},
     "output_type": "display_data"
    }
   ],
   "source": [
    "# roc curve\n",
    "plt.plot(fpr, tpr, label=f\"ROC curve (AUC = {round(100*roc_auc_score(y_test, pred_proba),2)}%)\")\n",
    "plt.xlabel('False Positive Rate')\n",
    "plt.ylabel(\"True Positive Rate\")\n",
    "plt.title(\"Response Operating Characteristics(ROC) Curve\")\n",
    "plt.legend()"
   ]
  },
  {
   "cell_type": "code",
   "execution_count": 46,
   "metadata": {},
   "outputs": [
    {
     "name": "stdout",
     "output_type": "stream",
     "text": [
      "              precision    recall  f1-score   support\n",
      "\n",
      "           0       1.00      1.00      1.00      1528\n",
      "           1       1.00      1.00      1.00      1530\n",
      "\n",
      "    accuracy                           1.00      3058\n",
      "   macro avg       1.00      1.00      1.00      3058\n",
      "weighted avg       1.00      1.00      1.00      3058\n",
      "\n"
     ]
    }
   ],
   "source": [
    "# classification report\n",
    "cr = classification_report(y_test, y_pred)\n",
    "print(cr)"
   ]
  },
  {
   "cell_type": "code",
   "execution_count": 47,
   "metadata": {},
   "outputs": [
    {
     "data": {
      "text/plain": [
       "Text(0.5, 1.0, 'Heatmap of the confusion matrix')"
      ]
     },
     "execution_count": 47,
     "metadata": {},
     "output_type": "execute_result"
    },
    {
     "data": {
      "image/png": "[encoded data removed]",
      "text/plain": [
       "<Figure size 640x480 with 1 Axes>"
      ]
     },
     "metadata": {},
     "output_type": "display_data"
    }
   ],
   "source": [
    "# confusion matrix\n",
    "cm = confusion_matrix(y_test, y_pred)\n",
    "sns.heatmap(cm, annot=True, fmt='g', \n",
    "            cmap=\"Blues\", cbar=False)\n",
    "plt.xlabel(\"Actual Values\")\n",
    "plt.ylabel(\"Predicted Values\")\n",
    "plt.title(\"Heatmap of the confusion matrix\")"
   ]
  },
  {
   "cell_type": "code",
   "execution_count": 48,
   "metadata": {},
   "outputs": [
    {
     "data": {
      "text/plain": [
       "99.87"
      ]
     },
     "execution_count": 48,
     "metadata": {},
     "output_type": "execute_result"
    }
   ],
   "source": [
    "# accuracy\n",
    "round(accuracy_score(y_test, y_pred)*100, 2)"
   ]
  },
  {
   "attachments": {},
   "cell_type": "markdown",
   "metadata": {},
   "source": [
    "### Saving the model"
   ]
  },
  {
   "cell_type": "code",
   "execution_count": 49,
   "metadata": {},
   "outputs": [],
   "source": [
    "with open('./pickleFiles/logitModel.pkl', \"wb\") as file:\n",
    "    pickle.dump(result, file)"
   ]
  }
 ],
 "metadata": {
  "kernelspec": {
   "display_name": "bccenv",
   "language": "python",
   "name": "python3"
  },
  "language_info": {
   "codemirror_mode": {
    "name": "ipython",
    "version": 3
   },
   "file_extension": ".py",
   "mimetype": "text/x-python",
   "name": "python",
   "nbconvert_exporter": "python",
   "pygments_lexer": "ipython3",
   "version": "3.11.3"
  },
  "orig_nbformat": 4
 },
 "nbformat": 4,
 "nbformat_minor": 2
}
